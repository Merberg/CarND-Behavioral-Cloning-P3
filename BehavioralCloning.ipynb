{
 "cells": [
  {
   "cell_type": "code",
   "execution_count": 7,
   "metadata": {
    "collapsed": true
   },
   "outputs": [],
   "source": [
    "import os\n",
    "import csv\n",
    "import cv2\n",
    "import matplotlib.pyplot as plt\n",
    "from numbers import Number\n",
    "import numpy as np\n",
    "import sklearn\n",
    "from sklearn.model_selection import train_test_split\n",
    "from sklearn.utils import shuffle\n",
    "\n",
    "sampleLines = []\n",
    "with open('data/driving_log.csv') as csvfile:\n",
    "    reader = csv.reader(csvfile)\n",
    "    for line in reader:\n",
    "        if line[3].find('steering') == -1:\n",
    "            sampleLines.append(line)"
   ]
  },
  {
   "cell_type": "code",
   "execution_count": 8,
   "metadata": {},
   "outputs": [
    {
     "name": "stdout",
     "output_type": "stream",
     "text": [
      "12320 Training Samples\n",
      "3080 Validation Samples\n"
     ]
    }
   ],
   "source": [
    "training_samples, validation_samples = train_test_split(sampleLines, test_size=0.2)\n",
    "\n",
    "print(\"{} Training Samples\".format(len(training_samples)))\n",
    "print(\"{} Validation Samples\".format(len(validation_samples)))"
   ]
  },
  {
   "cell_type": "code",
   "execution_count": 9,
   "metadata": {
    "collapsed": true
   },
   "outputs": [],
   "source": [
    "# A Generator to read in the data in partitions\n",
    "def generator(samples, batch_size=32):\n",
    "    num_samples = len(samples)\n",
    "    \n",
    "    while 1:\n",
    "        samples = shuffle(samples)\n",
    "        for offset in range(0, num_samples, batch_size):\n",
    "            batch_samples = samples[offset:offset+batch_size]\n",
    "\n",
    "            images = []\n",
    "            angles = []\n",
    "            correction = [0, 0.15, -0.15]\n",
    "            for batch_sample in batch_samples:\n",
    "                #All the cameras have a normal and flipped entry\n",
    "                for camera in range(3):\n",
    "                    name = 'data/IMG/'+batch_sample[camera].split('/')[-1]\n",
    "                    bgr = cv2.imread(name)\n",
    "                    rgb = bgr[...,::-1]\n",
    "                    angle = float(batch_sample[3]) + correction[camera]\n",
    "                    images.append(rgb)\n",
    "                    angles.append(angle)\n",
    "\n",
    "                    flipped_image = cv2.flip(rgb, 1)\n",
    "                    flipped_angle = -angle\n",
    "                    images.append(flipped_image)\n",
    "                    angles.append(flipped_angle)\n",
    "\n",
    "            X_train = np.array(images)\n",
    "            y_train = np.array(angles)\n",
    "            yield shuffle(X_train, y_train)"
   ]
  },
  {
   "cell_type": "code",
   "execution_count": 10,
   "metadata": {
    "collapsed": true
   },
   "outputs": [],
   "source": [
    "training_generator = generator(training_samples, batch_size=32)\n",
    "validation_generator = generator(validation_samples, batch_size=32)"
   ]
  },
  {
   "cell_type": "code",
   "execution_count": 11,
   "metadata": {},
   "outputs": [
    {
     "name": "stdout",
     "output_type": "stream",
     "text": [
      "Epoch 1/3\n",
      "73920/73920 [==============================] - 625s - loss: 0.0379 - val_loss: 0.0308\n",
      "Epoch 2/3\n",
      "73920/73920 [==============================] - 639s - loss: 0.0309 - val_loss: 0.0292\n",
      "Epoch 3/3\n",
      "73920/73920 [==============================] - 658s - loss: 0.0286 - val_loss: 0.0262\n",
      "dict_keys(['loss', 'val_loss'])\n"
     ]
    },
    {
     "data": {
      "image/png": "[encoded data removed]",
      "text/plain": [
       "<matplotlib.figure.Figure at 0x7f1c7b5bb9e8>"
      ]
     },
     "metadata": {},
     "output_type": "display_data"
    }
   ],
   "source": [
    "# Code for compiling and training the model\n",
    "from keras.models import Model, Sequential\n",
    "from keras.layers import Convolution2D, Cropping2D, Dense, Flatten\n",
    "from keras.layers import Activation, Dropout, Input, Lambda, MaxPooling2D\n",
    "\n",
    "model = Sequential()\n",
    "model.add(Lambda(lambda x: x/255.0 - 0.5,input_shape=(160,320,3)))\n",
    "model.add(Cropping2D(cropping=((60,25),(0,0))))\n",
    "model.add(Convolution2D(24,5,5,subsample=(2,2),activation='elu'))\n",
    "model.add(Convolution2D(36,5,5,subsample=(2,2),activation='elu'))\n",
    "model.add(Convolution2D(48,5,5,subsample=(2,2),activation='elu'))\n",
    "model.add(Convolution2D(64,3,3,activation='elu'))\n",
    "model.add(Convolution2D(64,3,3,activation='elu'))\n",
    "model.add(Flatten())\n",
    "model.add(Dropout(0.2, input_shape=(100,)))\n",
    "model.add(Activation('elu'))\n",
    "model.add(Dense(100))\n",
    "model.add(Activation('elu'))\n",
    "model.add(Dense(50))\n",
    "model.add(Activation('elu'))\n",
    "model.add(Dense(10))\n",
    "model.add(Activation('elu'))\n",
    "model.add(Dense(1))\n",
    "\n",
    "model.compile(loss='mse', optimizer='adam')\n",
    "history_object = model.fit_generator(training_generator, \n",
    "                    samples_per_epoch=6*len(training_samples), \n",
    "                    validation_data=validation_generator, \n",
    "                    nb_val_samples=6*len(validation_samples), \n",
    "                    nb_epoch=3)\n",
    "\n",
    "### print the keys contained in the history object\n",
    "print(history_object.history.keys())\n",
    "\n",
    "### plot the training and validation loss for each epoch\n",
    "plt.plot(history_object.history['loss'])\n",
    "plt.plot(history_object.history['val_loss'])\n",
    "plt.title('model mean squared error loss')\n",
    "plt.ylabel('mean squared error loss')\n",
    "plt.xlabel('epoch')\n",
    "plt.legend(['training set', 'validation set'], loc='upper right')\n",
    "plt.show()\n",
    "\n",
    "model.save('model.h5')"
   ]
  }
 ],
 "metadata": {
  "kernelspec": {
   "display_name": "Python 3",
   "language": "python",
   "name": "python3"
  },
  "language_info": {
   "codemirror_mode": {
    "name": "ipython",
    "version": 3
   },
   "file_extension": ".py",
   "mimetype": "text/x-python",
   "name": "python",
   "nbconvert_exporter": "python",
   "pygments_lexer": "ipython3",
   "version": "3.5.2"
  },
  "widgets": {
   "state": {},
   "version": "1.1.2"
  }
 },
 "nbformat": 4,
 "nbformat_minor": 2
}
